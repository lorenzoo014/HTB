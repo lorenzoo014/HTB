{
 "cells": [
  {
   "cell_type": "code",
   "execution_count": 8,
   "id": "c31585ae-dc30-47c9-874e-fd5de2fd283a",
   "metadata": {},
   "outputs": [
    {
     "name": "stdout",
     "output_type": "stream",
     "text": [
      "Requirement already satisfied: Crypto in c:\\users\\lorenzo\\anaconda3\\lib\\site-packages (1.4.1)\n",
      "Requirement already satisfied: shellescape in c:\\users\\lorenzo\\anaconda3\\lib\\site-packages (from Crypto) (3.8.1)\n",
      "Requirement already satisfied: Naked in c:\\users\\lorenzo\\anaconda3\\lib\\site-packages (from Crypto) (0.1.32)\n",
      "Requirement already satisfied: pyyaml in c:\\users\\lorenzo\\anaconda3\\lib\\site-packages (from Naked->Crypto) (6.0)\n",
      "Requirement already satisfied: requests in c:\\users\\lorenzo\\anaconda3\\lib\\site-packages (from Naked->Crypto) (2.27.1)\n",
      "Requirement already satisfied: idna<4,>=2.5 in c:\\users\\lorenzo\\anaconda3\\lib\\site-packages (from requests->Naked->Crypto) (3.3)\n",
      "Requirement already satisfied: charset-normalizer~=2.0.0 in c:\\users\\lorenzo\\anaconda3\\lib\\site-packages (from requests->Naked->Crypto) (2.0.4)\n",
      "Requirement already satisfied: urllib3<1.27,>=1.21.1 in c:\\users\\lorenzo\\anaconda3\\lib\\site-packages (from requests->Naked->Crypto) (1.26.9)\n",
      "Requirement already satisfied: certifi>=2017.4.17 in c:\\users\\lorenzo\\anaconda3\\lib\\site-packages (from requests->Naked->Crypto) (2021.10.8)\n",
      "Requirement already satisfied: ecdsa in c:\\users\\lorenzo\\anaconda3\\lib\\site-packages (0.18.0)\n",
      "Requirement already satisfied: six>=1.9.0 in c:\\users\\lorenzo\\anaconda3\\lib\\site-packages (from ecdsa) (1.16.0)\n"
     ]
    }
   ],
   "source": [
    "!pip install Crypto\n",
    "!pip install ecdsa"
   ]
  },
  {
   "cell_type": "code",
   "execution_count": 9,
   "id": "52fac919-80ce-4180-b252-0c3f62011b17",
   "metadata": {},
   "outputs": [
    {
     "name": "stdout",
     "output_type": "stream",
     "text": [
      "Requirement already satisfied: pycryptodome in c:\\users\\lorenzo\\anaconda3\\lib\\site-packages (3.17)\n"
     ]
    }
   ],
   "source": [
    "!pip install pycryptodome"
   ]
  },
  {
   "cell_type": "code",
   "execution_count": 12,
   "id": "b88bae2e-3d1c-4952-b36e-b9df95fa88aa",
   "metadata": {},
   "outputs": [
    {
     "ename": "ModuleNotFoundError",
     "evalue": "No module named 'Crypto'",
     "output_type": "error",
     "traceback": [
      "\u001b[1;31m---------------------------------------------------------------------------\u001b[0m",
      "\u001b[1;31mModuleNotFoundError\u001b[0m                       Traceback (most recent call last)",
      "Input \u001b[1;32mIn [12]\u001b[0m, in \u001b[0;36m<cell line: 5>\u001b[1;34m()\u001b[0m\n\u001b[0;32m      3\u001b[0m \u001b[38;5;28;01mimport\u001b[39;00m \u001b[38;5;21;01msocketserver\u001b[39;00m\n\u001b[0;32m      4\u001b[0m \u001b[38;5;28;01mimport\u001b[39;00m \u001b[38;5;21;01msignal\u001b[39;00m\n\u001b[1;32m----> 5\u001b[0m \u001b[38;5;28;01mfrom\u001b[39;00m \u001b[38;5;21;01mCrypto\u001b[39;00m\u001b[38;5;21;01m.\u001b[39;00m\u001b[38;5;21;01mUtil\u001b[39;00m\u001b[38;5;21;01m.\u001b[39;00m\u001b[38;5;21;01mnumber\u001b[39;00m \u001b[38;5;28;01mimport\u001b[39;00m isPrime\n",
      "\u001b[1;31mModuleNotFoundError\u001b[0m: No module named 'Crypto'"
     ]
    }
   ],
   "source": [
    "from ecdsa import ellipticcurve as ecc\n",
    "import os\n",
    "import socketserver\n",
    "import signal\n",
    "from Crypto.Util.number import isPrime\n",
    "\n"
   ]
  },
  {
   "cell_type": "code",
   "execution_count": 13,
   "id": "619fb991-5b16-4beb-9f0f-ace0eabcda74",
   "metadata": {},
   "outputs": [
    {
     "ename": "AttributeError",
     "evalue": "module 'socketserver' has no attribute 'ForkingMixIn'",
     "output_type": "error",
     "traceback": [
      "\u001b[1;31m---------------------------------------------------------------------------\u001b[0m",
      "\u001b[1;31mAttributeError\u001b[0m                            Traceback (most recent call last)",
      "Input \u001b[1;32mIn [13]\u001b[0m, in \u001b[0;36m<cell line: 6>\u001b[1;34m()\u001b[0m\n\u001b[0;32m      3\u001b[0m         signal\u001b[38;5;241m.\u001b[39malarm(\u001b[38;5;241m0\u001b[39m)\n\u001b[0;32m      4\u001b[0m         main(\u001b[38;5;28mself\u001b[39m\u001b[38;5;241m.\u001b[39mrequest)\n\u001b[1;32m----> 6\u001b[0m \u001b[38;5;28;01mclass\u001b[39;00m \u001b[38;5;21;01mReusableTCPServer\u001b[39;00m(\u001b[43msocketserver\u001b[49m\u001b[38;5;241;43m.\u001b[39;49m\u001b[43mForkingMixIn\u001b[49m, socketserver\u001b[38;5;241m.\u001b[39mTCPServer):\n\u001b[0;32m      7\u001b[0m     \u001b[38;5;28;01mpass\u001b[39;00m\n\u001b[0;32m     10\u001b[0m \u001b[38;5;28;01mclass\u001b[39;00m \u001b[38;5;21;01mTrainRoute\u001b[39;00m:\n",
      "\u001b[1;31mAttributeError\u001b[0m: module 'socketserver' has no attribute 'ForkingMixIn'"
     ]
    }
   ],
   "source": [
    "\n",
    "class Handler(socketserver.BaseRequestHandler):\n",
    "    def handle(self):\n",
    "        signal.alarm(0)\n",
    "        main(self.request)\n",
    "\n",
    "class ReusableTCPServer(socketserver.ForkingMixIn, socketserver.TCPServer):\n",
    "    pass\n",
    "\n",
    "\n",
    "class TrainRoute:\n",
    "    def __init__(self, a=None):\n",
    "        self.p = 17101937747109687265202713197737423\n",
    "        self.Gx = 3543321030468950376213178213609418\n",
    "        self.Gy = 14807290861072031659976937040569354\n",
    "        self.ec_order = 17101937747109687496599931614463506\n",
    "        self.E = ecc.CurveFp(self.p, 2, 3)\n",
    "        self.G = ecc.Point(self.E, self.Gx, self.Gy, self.ec_order)\n",
    "        a, x = divmod(a, 30268)\n",
    "        a, y = divmod(a, 30306)\n",
    "        a, z = divmod(a, 30322)\n",
    "        self.seed = int(x) + 1, int(y) + 1, int(z) + 1\n",
    "\n",
    "    def rotate(self):\n",
    "        x, y, z = self.seed\n",
    "        x = (171 * x) % 30269\n",
    "        y = (172 * y) % 30307\n",
    "        z = (170 * z) % 30323\n",
    "        self.seed = x, y, z\n",
    "\n",
    "    def goToNextStation(self):\n",
    "        while True:\n",
    "            self.rotate()\n",
    "            x, y, z = self.seed\n",
    "            if(isPrime(x) and isPrime(y) and isPrime(z)):\n",
    "                d = x * y * z\n",
    "                new_point = d * self.G\n",
    "                return int(new_point.x()), int(new_point.y())\n",
    "\n",
    "\n",
    "def getTicketNumber():\n",
    "    return int(os.urandom(32).hex(), 16)\n",
    "\n",
    "\n",
    "def sendMessage(s, msg):\n",
    "    s.send(msg.encode())\n",
    "\n",
    "\n",
    "def receiveMessage(s, msg):\n",
    "    sendMessage(s, msg)\n",
    "    return s.recv(4096).decode().strip()\n",
    "\n"
   ]
  },
  {
   "cell_type": "code",
   "execution_count": null,
   "id": "b9ae01e0-c95e-4f64-ac21-a348f2ecf99c",
   "metadata": {},
   "outputs": [],
   "source": [
    "\n",
    "def main(s):\n",
    "    route = TrainRoute(getTicketNumber())\n",
    "\n",
    "    station_coords = route.goToNextStation()\n",
    "    sendMessage(\n",
    "        s, f'The coordinates of the departing station were: {station_coords}\\n')\n",
    "\n",
    "    destination_coords = route.goToNextStation()\n",
    "    sendMessage(s, 'Your lover has arrived to the destination. Hurry up!\\n')\n",
    "\n",
    "    pegions_left = 6\n",
    "    sendMessage(\n",
    "        s, f'Luckily you have {pegions_left} mechapegions in your pockets.\\n')\n",
    "    sendMessage(\n",
    "        s, 'Use them to find out if your lover is at the destination you think.\\n')\n",
    "\n",
    "    while True:\n",
    "        sendMessage(s, f'{pegions_left} mechapegions awaiting instructions.\\n')\n",
    "        x = receiveMessage(s, 'Enter the x coordinate: ')\n",
    "        y = receiveMessage(s, 'Enter the y coordinate: ')\n",
    "        pegions_left -= 1\n",
    "\n",
    "        try:\n",
    "            guessed_coords = ecc.Point(route.E, int(x), int(y), route.ec_order)\n",
    "            guessed_coords = (int(guessed_coords.x()), int(guessed_coords.y()))\n",
    "        except Exception as e:\n",
    "            print(e)\n",
    "            sendMessage(\n",
    "                s, 'The mechapegion got lost, maybe try valid coordinates next time\\n')\n",
    "            exit()\n",
    "\n",
    "        if guessed_coords == destination_coords:\n",
    "            sendMessage(\n",
    "                s, f'You found your lover. Here is your flag: {FLAG}\\n')\n",
    "            exit()\n",
    "\n",
    "        if pegions_left:\n",
    "            sendMessage(s, f'Try again, your lover is not there\\n')\n",
    "        else:\n",
    "            sendMessage(s, 'Maybe it wasn\\'t meant to be\\n')\n",
    "            exit()\n",
    "\n",
    "\n",
    "if __name__ == '__main__':\n",
    "    socketserver.TCPServer.allow_reuse_address = True\n",
    "    server = ReusableTCPServer((\"0.0.0.0\", 1337), Handler)\n",
    "    server.serve_forever()\n"
   ]
  },
  {
   "cell_type": "code",
   "execution_count": null,
   "id": "2a26fb8e-e5b0-40be-ac5c-02429e07ecef",
   "metadata": {},
   "outputs": [],
   "source": []
  }
 ],
 "metadata": {
  "kernelspec": {
   "display_name": "Python 3 (ipykernel)",
   "language": "python",
   "name": "python3"
  },
  "language_info": {
   "codemirror_mode": {
    "name": "ipython",
    "version": 3
   },
   "file_extension": ".py",
   "mimetype": "text/x-python",
   "name": "python",
   "nbconvert_exporter": "python",
   "pygments_lexer": "ipython3",
   "version": "3.9.12"
  }
 },
 "nbformat": 4,
 "nbformat_minor": 5
}
